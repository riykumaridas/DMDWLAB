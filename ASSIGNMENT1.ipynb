{
  "nbformat": 4,
  "nbformat_minor": 0,
  "metadata": {
    "colab": {
      "name": "ASSIGNMENT1",
      "provenance": [],
      "collapsed_sections": [],
      "include_colab_link": true
    },
    "kernelspec": {
      "name": "python3",
      "display_name": "Python 3"
    }
  },
  "cells": [
    {
      "cell_type": "markdown",
      "metadata": {
        "id": "view-in-github",
        "colab_type": "text"
      },
      "source": [
        "<a href=\"https://colab.research.google.com/github/riykumaridas/DMDWLAB/blob/main/ASSIGNMENT1.ipynb\" target=\"_parent\"><img src=\"https://colab.research.google.com/assets/colab-badge.svg\" alt=\"Open In Colab\"/></a>"
      ]
    },
    {
      "cell_type": "markdown",
      "metadata": {
        "id": "MZRKX1r2BIo7"
      },
      "source": [
        ""
      ]
    },
    {
      "cell_type": "markdown",
      "metadata": {
        "id": "1veapJkOBP0I"
      },
      "source": [
        "find Mean --Sample 1"
      ]
    },
    {
      "cell_type": "code",
      "metadata": {
        "id": "DjbK4lxqBVtC",
        "colab": {
          "base_uri": "https://localhost:8080/"
        },
        "outputId": "006ddc17-c8f2-4406-8730-a5ee33398294"
      },
      "source": [
        "(4 + 8 + 6 + 5 + 3 + 2 + 8 + 9 + 2 + 5) /10\n"
      ],
      "execution_count": null,
      "outputs": [
        {
          "output_type": "execute_result",
          "data": {
            "text/plain": [
              "5.2"
            ]
          },
          "metadata": {
            "tags": []
          },
          "execution_count": 3
        }
      ]
    },
    {
      "cell_type": "markdown",
      "metadata": {
        "id": "9RFqCgVxBb7Y"
      },
      "source": [
        "mean sample--2"
      ]
    },
    {
      "cell_type": "code",
      "metadata": {
        "id": "lq2vsy9dBgbR",
        "colab": {
          "base_uri": "https://localhost:8080/"
        },
        "outputId": "016efb6c-8318-45d5-e1aa-e6b0714d4904"
      },
      "source": [
        "import statistics\n",
        "\n",
        "statistics.mean([4, 8, 6, 5, 3, 2, 8, 9, 2, 5])\n"
      ],
      "execution_count": null,
      "outputs": [
        {
          "output_type": "execute_result",
          "data": {
            "text/plain": [
              "5.2"
            ]
          },
          "metadata": {
            "tags": []
          },
          "execution_count": 4
        }
      ]
    },
    {
      "cell_type": "markdown",
      "metadata": {
        "id": "T8CbF-SWCgZf"
      },
      "source": [
        "Median Sample-1"
      ]
    },
    {
      "cell_type": "code",
      "metadata": {
        "id": "MegS5Ab2CxNj",
        "colab": {
          "base_uri": "https://localhost:8080/"
        },
        "outputId": "d547e6a5-6da2-4cfe-874f-9a8095408f3b"
      },
      "source": [
        "def my_median(sample):\n",
        "   n = len(sample)\n",
        "   index = n // 2\n",
        "  # Sample with an odd number of observations\n",
        "   if n % 2:\n",
        "        return sorted(sample)[index]\n",
        "  # Sample with an even number of observations\n",
        "        return sum(sorted(sample)[index - 1:index + 1]) / 2\n",
        "\n",
        "\n",
        "my_median([3, 5, 1, 4, 2])\n"
      ],
      "execution_count": null,
      "outputs": [
        {
          "output_type": "execute_result",
          "data": {
            "text/plain": [
              "3"
            ]
          },
          "metadata": {
            "tags": []
          },
          "execution_count": 5
        }
      ]
    },
    {
      "cell_type": "markdown",
      "metadata": {
        "id": "UqnY0yus8VVI"
      },
      "source": [
        "Median sample-2"
      ]
    },
    {
      "cell_type": "code",
      "metadata": {
        "id": "M_uYs4Yb8YLg",
        "colab": {
          "base_uri": "https://localhost:8080/"
        },
        "outputId": "3fa3f2c0-207d-423e-a447-795ffc6f2da5"
      },
      "source": [
        "import statistics\n",
        "statistics.median([3, 5, 1, 4, 2])"
      ],
      "execution_count": null,
      "outputs": [
        {
          "output_type": "execute_result",
          "data": {
            "text/plain": [
              "3"
            ]
          },
          "metadata": {
            "tags": []
          },
          "execution_count": 6
        }
      ]
    },
    {
      "cell_type": "markdown",
      "metadata": {
        "id": "CLgTuh8x89aK"
      },
      "source": [
        "Mode sample-1"
      ]
    },
    {
      "cell_type": "code",
      "metadata": {
        "id": "uJGGCE_j8_sc",
        "colab": {
          "base_uri": "https://localhost:8080/"
        },
        "outputId": "fb3327e5-9cca-4b28-d681-bb34e299c65b"
      },
      "source": [
        "from collections import Counter\n",
        "\n",
        "def my_mode(sample):\n",
        "    c = Counter(sample)\n",
        "    return [k for k, v in c.items() if v == c.most_common(1)[0][1]]\n",
        "\n",
        "\n",
        "my_mode([\"male\", \"male\", \"female\", \"male\"])"
      ],
      "execution_count": null,
      "outputs": [
        {
          "output_type": "execute_result",
          "data": {
            "text/plain": [
              "['male']"
            ]
          },
          "metadata": {
            "tags": []
          },
          "execution_count": 7
        }
      ]
    },
    {
      "cell_type": "markdown",
      "metadata": {
        "id": "NBlM35mx9XAB"
      },
      "source": [
        "Mode sample 2"
      ]
    },
    {
      "cell_type": "code",
      "metadata": {
        "id": "TC6csxu09ZJb",
        "colab": {
          "base_uri": "https://localhost:8080/"
        },
        "outputId": "465f7508-54ac-49b2-9bbe-0340b5319e97"
      },
      "source": [
        "import statistics\n",
        "\n",
        "statistics.mode([4, 1, 2, 2, 3, 5])"
      ],
      "execution_count": null,
      "outputs": [
        {
          "output_type": "execute_result",
          "data": {
            "text/plain": [
              "2"
            ]
          },
          "metadata": {
            "tags": []
          },
          "execution_count": 8
        }
      ]
    },
    {
      "cell_type": "markdown",
      "metadata": {
        "id": "bHYvVDaL-Xib"
      },
      "source": [
        "variance sample -1"
      ]
    },
    {
      "cell_type": "code",
      "metadata": {
        "id": "xfdgPwT0-hnY",
        "colab": {
          "base_uri": "https://localhost:8080/"
        },
        "outputId": "463c53f3-99bd-4e12-a2ad-6fdc8860c8bc"
      },
      "source": [
        "def variance(data):\n",
        "     # Number of observations\n",
        "     n = len(data)\n",
        "     # Mean of the data\n",
        "     mean = sum(data) / n\n",
        "     # Square deviations\n",
        "     deviations = [(x - mean) ** 2 for x in data]\n",
        "     # Variance\n",
        "     variance = sum(deviations) / n\n",
        "     return variance\n",
        "\n",
        "variance([4, 8, 6, 5, 3, 2, 8, 9, 2, 5])"
      ],
      "execution_count": null,
      "outputs": [
        {
          "output_type": "execute_result",
          "data": {
            "text/plain": [
              "5.76"
            ]
          },
          "metadata": {
            "tags": []
          },
          "execution_count": 9
        }
      ]
    },
    {
      "cell_type": "markdown",
      "metadata": {
        "id": "XyI2j4jt_cH9"
      },
      "source": [
        "Variance sample 2:-the statistics.pvariance() and statistics.variance() are the functions that we can use to calculate the variance"
      ]
    },
    {
      "cell_type": "code",
      "metadata": {
        "id": "dUinCdeV_iio",
        "colab": {
          "base_uri": "https://localhost:8080/"
        },
        "outputId": "27984452-eb7f-4bbc-c8d4-e08f81411fcb"
      },
      "source": [
        "import statistics\n",
        "\n",
        "statistics.pvariance([4, 8, 6, 5, 3, 2, 8, 9, 2, 5])"
      ],
      "execution_count": null,
      "outputs": [
        {
          "output_type": "execute_result",
          "data": {
            "text/plain": [
              "5.760000000000001"
            ]
          },
          "metadata": {
            "tags": []
          },
          "execution_count": 10
        }
      ]
    },
    {
      "cell_type": "markdown",
      "metadata": {
        "id": "buydEBC2_3qX"
      },
      "source": [
        "Standard Deviation sample-1"
      ]
    },
    {
      "cell_type": "code",
      "metadata": {
        "id": "givWeSJYAf5Q",
        "colab": {
          "base_uri": "https://localhost:8080/"
        },
        "outputId": "52a0fb04-49c8-4027-c734-dfce72a8c3e4"
      },
      "source": [
        "import math\n",
        "\n",
        " # We relay on our previous implementation for the variance\n",
        "def variance(data, ddof=0):\n",
        "     n = len(data)\n",
        "     mean = sum(data) / n\n",
        "     return sum((x - mean) ** 2 for x in data) / (n - ddof)\n",
        "\n",
        "def stdev(data):\n",
        "     var = variance(data)\n",
        "     std_dev = math.sqrt(var)\n",
        "     return std_dev\n",
        "\n",
        "stdev([4, 8, 6, 5, 3, 2, 8, 9, 2, 5])"
      ],
      "execution_count": null,
      "outputs": [
        {
          "output_type": "execute_result",
          "data": {
            "text/plain": [
              "2.4"
            ]
          },
          "metadata": {
            "tags": []
          },
          "execution_count": 11
        }
      ]
    },
    {
      "cell_type": "markdown",
      "metadata": {
        "id": "b1gTdYUKBgRt"
      },
      "source": [
        "Standard deviation Sample-2"
      ]
    },
    {
      "cell_type": "code",
      "metadata": {
        "id": "b61iJdUMBj_T",
        "colab": {
          "base_uri": "https://localhost:8080/"
        },
        "outputId": "036550c4-68fc-4107-e07b-f72567ae4672"
      },
      "source": [
        "import statistics\n",
        "\n",
        "statistics.pstdev([4, 8, 6, 5, 3, 2, 8, 9, 2, 5])"
      ],
      "execution_count": null,
      "outputs": [
        {
          "output_type": "execute_result",
          "data": {
            "text/plain": [
              "2.4000000000000004"
            ]
          },
          "metadata": {
            "tags": []
          },
          "execution_count": 12
        }
      ]
    }
  ]
}