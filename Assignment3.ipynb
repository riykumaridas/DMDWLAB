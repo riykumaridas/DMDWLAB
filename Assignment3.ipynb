{
  "nbformat": 4,
  "nbformat_minor": 0,
  "metadata": {
    "colab": {
      "name": "Assignment3",
      "provenance": [],
      "collapsed_sections": [],
      "include_colab_link": true
    },
    "kernelspec": {
      "name": "python3",
      "display_name": "Python 3"
    }
  },
  "cells": [
    {
      "cell_type": "markdown",
      "metadata": {
        "id": "view-in-github",
        "colab_type": "text"
      },
      "source": [
        "<a href=\"https://colab.research.google.com/github/riykumaridas/DMDWLAB/blob/main/Assignment3.ipynb\" target=\"_parent\"><img src=\"https://colab.research.google.com/assets/colab-badge.svg\" alt=\"Open In Colab\"/></a>"
      ]
    },
    {
      "cell_type": "code",
      "metadata": {
        "id": "inbn0ST-iFB1"
      },
      "source": [
        "import numpy as np\n",
        "from matplotlib import pyplot as plt"
      ],
      "execution_count": null,
      "outputs": []
    },
    {
      "cell_type": "code",
      "metadata": {
        "id": "7dWYv78xiWV2"
      },
      "source": [
        "x=np.arange(1,11)\n",
        "x"
      ],
      "execution_count": null,
      "outputs": []
    },
    {
      "cell_type": "code",
      "metadata": {
        "id": "0QUKLwcQipCF"
      },
      "source": [
        "y=2*x\n",
        "y"
      ],
      "execution_count": null,
      "outputs": []
    },
    {
      "cell_type": "code",
      "metadata": {
        "id": "1Fi-o9p2aTij"
      },
      "source": [
        "import pandas as pd\n",
        "import numpy as np\n",
        "import matplotlib.pyplot as pt"
      ],
      "execution_count": null,
      "outputs": []
    },
    {
      "cell_type": "code",
      "metadata": {
        "id": "lWaW4sGnamki"
      },
      "source": [
        ""
      ],
      "execution_count": null,
      "outputs": []
    },
    {
      "cell_type": "code",
      "metadata": {
        "id": "KSLxZ8kGi1iB"
      },
      "source": [
        "plt.plot(x,y)\n",
        "plt.show()"
      ],
      "execution_count": null,
      "outputs": []
    },
    {
      "cell_type": "code",
      "metadata": {
        "id": "LhIoqziNlY4x"
      },
      "source": [
        "import pandas as pd \n",
        "import matplotlib.pyplot as plt \n",
        "\n",
        "data = [['E001', 'M', 34, 123, 'Normal', 350], \n",
        "\t\t['E002', 'F', 40, 114, 'Overweight', 450], \n",
        "\t\t['E003', 'F', 37, 135, 'Obesity', 169], \n",
        "\t\t['E004', 'M', 30, 139, 'Underweight', 189], \n",
        "\t\t['E005', 'F', 44, 117, 'Underweight', 183], \n",
        "\t\t['E006', 'M', 36, 121, 'Normal', 80], \n",
        "\t\t['E007', 'M', 32, 133, 'Obesity', 166], \n",
        "\t\t['E008', 'F', 26, 140, 'Normal', 120], \n",
        "\t\t['E009', 'F', 32, 133, 'Normal', 75], \n",
        "    ['E010', 'M', 36, 133, 'Underweight', 40]] \n",
        "\n"
      ],
      "execution_count": null,
      "outputs": []
    },
    {
      "cell_type": "code",
      "metadata": {
        "id": "ATHMTj7znlgk"
      },
      "source": [
        "df = pd.DataFrame(data,columns = ['EMPID','Gender','Age','Sales','BMI','Income'])\n",
        "df.hist()"
      ],
      "execution_count": null,
      "outputs": []
    },
    {
      "cell_type": "code",
      "metadata": {
        "id": "F0olvuFzqSjn"
      },
      "source": [
        "import numpy as np \n",
        "import pandas as pd \n",
        "import matplotlib.pyplot as plt \n",
        "import seaborn as sns"
      ],
      "execution_count": null,
      "outputs": []
    },
    {
      "cell_type": "code",
      "metadata": {
        "id": "01QdNNUpqnPM"
      },
      "source": [
        "a=sns.load_dataset(\"flights\")\n",
        "sns.relplot(x=\"passangers\",y=\"month\", hue=\"year\",date=a)"
      ],
      "execution_count": null,
      "outputs": []
    },
    {
      "cell_type": "code",
      "metadata": {
        "id": "cDiTKkYzuxCT"
      },
      "source": [
        "from scipy import stats"
      ],
      "execution_count": null,
      "outputs": []
    },
    {
      "cell_type": "code",
      "metadata": {
        "id": "c1RPlIZ8u-g1"
      },
      "source": [
        ""
      ],
      "execution_count": null,
      "outputs": []
    },
    {
      "cell_type": "code",
      "metadata": {
        "id": "2MxH9hy9u4a3"
      },
      "source": [
        "c = np.random.normal(loc=5, size=100, scale=2)"
      ],
      "execution_count": null,
      "outputs": []
    }
  ]
}